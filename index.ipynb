{
 "cells": [
  {
   "cell_type": "markdown",
   "metadata": {},
   "source": [
    "# Performing Principal Component Analysis (PCA) - Lab\n",
    "\n",
    "## Introduction\n",
    "\n",
    "Now that you have a high-level overview of PCA, as well as some of the details of the algorithm itself, it's time to practice implementing PCA on your own using the NumPy package. \n",
    "\n",
    "## Objectives\n",
    "\n",
    "You will be able to:\n",
    "    \n",
    "* Implement PCA from scratch using NumPy"
   ]
  },
  {
   "cell_type": "markdown",
   "metadata": {},
   "source": [
    "## Import the data\n",
    "\n",
    "- Import the data stored in the file `'foodusa.csv'` (set `index_col=0`)\n",
    "- Print the first five rows of the DataFrame "
   ]
  },
  {
   "cell_type": "code",
   "execution_count": 24,
   "metadata": {},
   "outputs": [
    {
     "data": {
      "text/html": [
       "<div>\n",
       "<style scoped>\n",
       "    .dataframe tbody tr th:only-of-type {\n",
       "        vertical-align: middle;\n",
       "    }\n",
       "\n",
       "    .dataframe tbody tr th {\n",
       "        vertical-align: top;\n",
       "    }\n",
       "\n",
       "    .dataframe thead th {\n",
       "        text-align: right;\n",
       "    }\n",
       "</style>\n",
       "<table border=\"1\" class=\"dataframe\">\n",
       "  <thead>\n",
       "    <tr style=\"text-align: right;\">\n",
       "      <th></th>\n",
       "      <th>Bread</th>\n",
       "      <th>Burger</th>\n",
       "      <th>Milk</th>\n",
       "      <th>Oranges</th>\n",
       "      <th>Tomatoes</th>\n",
       "    </tr>\n",
       "    <tr>\n",
       "      <th>City</th>\n",
       "      <th></th>\n",
       "      <th></th>\n",
       "      <th></th>\n",
       "      <th></th>\n",
       "      <th></th>\n",
       "    </tr>\n",
       "  </thead>\n",
       "  <tbody>\n",
       "    <tr>\n",
       "      <td>ATLANTA</td>\n",
       "      <td>24.5</td>\n",
       "      <td>94.5</td>\n",
       "      <td>73.9</td>\n",
       "      <td>80.1</td>\n",
       "      <td>41.6</td>\n",
       "    </tr>\n",
       "    <tr>\n",
       "      <td>BALTIMORE</td>\n",
       "      <td>26.5</td>\n",
       "      <td>91.0</td>\n",
       "      <td>67.5</td>\n",
       "      <td>74.6</td>\n",
       "      <td>53.3</td>\n",
       "    </tr>\n",
       "    <tr>\n",
       "      <td>BOSTON</td>\n",
       "      <td>29.7</td>\n",
       "      <td>100.8</td>\n",
       "      <td>61.4</td>\n",
       "      <td>104.0</td>\n",
       "      <td>59.6</td>\n",
       "    </tr>\n",
       "    <tr>\n",
       "      <td>BUFFALO</td>\n",
       "      <td>22.8</td>\n",
       "      <td>86.6</td>\n",
       "      <td>65.3</td>\n",
       "      <td>118.4</td>\n",
       "      <td>51.2</td>\n",
       "    </tr>\n",
       "    <tr>\n",
       "      <td>CHICAGO</td>\n",
       "      <td>26.7</td>\n",
       "      <td>86.7</td>\n",
       "      <td>62.7</td>\n",
       "      <td>105.9</td>\n",
       "      <td>51.2</td>\n",
       "    </tr>\n",
       "  </tbody>\n",
       "</table>\n",
       "</div>"
      ],
      "text/plain": [
       "           Bread  Burger  Milk  Oranges  Tomatoes\n",
       "City                                             \n",
       "ATLANTA     24.5    94.5  73.9     80.1      41.6\n",
       "BALTIMORE   26.5    91.0  67.5     74.6      53.3\n",
       "BOSTON      29.7   100.8  61.4    104.0      59.6\n",
       "BUFFALO     22.8    86.6  65.3    118.4      51.2\n",
       "CHICAGO     26.7    86.7  62.7    105.9      51.2"
      ]
     },
     "execution_count": 24,
     "metadata": {},
     "output_type": "execute_result"
    }
   ],
   "source": [
    "import pandas as pd\n",
    "data = pd.read_csv('foodusa.csv', index_col=0)\n",
    "data.head()"
   ]
  },
  {
   "cell_type": "markdown",
   "metadata": {},
   "source": [
    "## Normalize the data\n",
    "\n",
    "Next, normalize your data by subtracting the mean from each of the columns."
   ]
  },
  {
   "cell_type": "code",
   "execution_count": 25,
   "metadata": {},
   "outputs": [
    {
     "data": {
      "text/html": [
       "<div>\n",
       "<style scoped>\n",
       "    .dataframe tbody tr th:only-of-type {\n",
       "        vertical-align: middle;\n",
       "    }\n",
       "\n",
       "    .dataframe tbody tr th {\n",
       "        vertical-align: top;\n",
       "    }\n",
       "\n",
       "    .dataframe thead th {\n",
       "        text-align: right;\n",
       "    }\n",
       "</style>\n",
       "<table border=\"1\" class=\"dataframe\">\n",
       "  <thead>\n",
       "    <tr style=\"text-align: right;\">\n",
       "      <th></th>\n",
       "      <th>Bread</th>\n",
       "      <th>Burger</th>\n",
       "      <th>Milk</th>\n",
       "      <th>Oranges</th>\n",
       "      <th>Tomatoes</th>\n",
       "    </tr>\n",
       "    <tr>\n",
       "      <th>City</th>\n",
       "      <th></th>\n",
       "      <th></th>\n",
       "      <th></th>\n",
       "      <th></th>\n",
       "      <th></th>\n",
       "    </tr>\n",
       "  </thead>\n",
       "  <tbody>\n",
       "    <tr>\n",
       "      <td>ATLANTA</td>\n",
       "      <td>-0.791304</td>\n",
       "      <td>2.643478</td>\n",
       "      <td>11.604348</td>\n",
       "      <td>-22.891304</td>\n",
       "      <td>-7.165217</td>\n",
       "    </tr>\n",
       "    <tr>\n",
       "      <td>BALTIMORE</td>\n",
       "      <td>1.208696</td>\n",
       "      <td>-0.856522</td>\n",
       "      <td>5.204348</td>\n",
       "      <td>-28.391304</td>\n",
       "      <td>4.534783</td>\n",
       "    </tr>\n",
       "    <tr>\n",
       "      <td>BOSTON</td>\n",
       "      <td>4.408696</td>\n",
       "      <td>8.943478</td>\n",
       "      <td>-0.895652</td>\n",
       "      <td>1.008696</td>\n",
       "      <td>10.834783</td>\n",
       "    </tr>\n",
       "    <tr>\n",
       "      <td>BUFFALO</td>\n",
       "      <td>-2.491304</td>\n",
       "      <td>-5.256522</td>\n",
       "      <td>3.004348</td>\n",
       "      <td>15.408696</td>\n",
       "      <td>2.434783</td>\n",
       "    </tr>\n",
       "    <tr>\n",
       "      <td>CHICAGO</td>\n",
       "      <td>1.408696</td>\n",
       "      <td>-5.156522</td>\n",
       "      <td>0.404348</td>\n",
       "      <td>2.908696</td>\n",
       "      <td>2.434783</td>\n",
       "    </tr>\n",
       "  </tbody>\n",
       "</table>\n",
       "</div>"
      ],
      "text/plain": [
       "              Bread    Burger       Milk    Oranges   Tomatoes\n",
       "City                                                          \n",
       "ATLANTA   -0.791304  2.643478  11.604348 -22.891304  -7.165217\n",
       "BALTIMORE  1.208696 -0.856522   5.204348 -28.391304   4.534783\n",
       "BOSTON     4.408696  8.943478  -0.895652   1.008696  10.834783\n",
       "BUFFALO   -2.491304 -5.256522   3.004348  15.408696   2.434783\n",
       "CHICAGO    1.408696 -5.156522   0.404348   2.908696   2.434783"
      ]
     },
     "execution_count": 25,
     "metadata": {},
     "output_type": "execute_result"
    }
   ],
   "source": [
    "data = data - data.mean()\n",
    "data.head()"
   ]
  },
  {
   "cell_type": "markdown",
   "metadata": {},
   "source": [
    "## Calculate the covariance matrix\n",
    "\n",
    "The next step is to calculate the covariance matrix for your normalized data. "
   ]
  },
  {
   "cell_type": "code",
   "execution_count": 26,
   "metadata": {},
   "outputs": [
    {
     "data": {
      "text/html": [
       "<div>\n",
       "<style scoped>\n",
       "    .dataframe tbody tr th:only-of-type {\n",
       "        vertical-align: middle;\n",
       "    }\n",
       "\n",
       "    .dataframe tbody tr th {\n",
       "        vertical-align: top;\n",
       "    }\n",
       "\n",
       "    .dataframe thead th {\n",
       "        text-align: right;\n",
       "    }\n",
       "</style>\n",
       "<table border=\"1\" class=\"dataframe\">\n",
       "  <thead>\n",
       "    <tr style=\"text-align: right;\">\n",
       "      <th></th>\n",
       "      <th>Bread</th>\n",
       "      <th>Burger</th>\n",
       "      <th>Milk</th>\n",
       "      <th>Oranges</th>\n",
       "      <th>Tomatoes</th>\n",
       "    </tr>\n",
       "  </thead>\n",
       "  <tbody>\n",
       "    <tr>\n",
       "      <td>Bread</td>\n",
       "      <td>6.284466</td>\n",
       "      <td>12.910968</td>\n",
       "      <td>5.719051</td>\n",
       "      <td>1.310375</td>\n",
       "      <td>7.285138</td>\n",
       "    </tr>\n",
       "    <tr>\n",
       "      <td>Burger</td>\n",
       "      <td>12.910968</td>\n",
       "      <td>57.077115</td>\n",
       "      <td>17.507530</td>\n",
       "      <td>22.691877</td>\n",
       "      <td>36.294783</td>\n",
       "    </tr>\n",
       "    <tr>\n",
       "      <td>Milk</td>\n",
       "      <td>5.719051</td>\n",
       "      <td>17.507530</td>\n",
       "      <td>48.305889</td>\n",
       "      <td>-0.275040</td>\n",
       "      <td>13.443478</td>\n",
       "    </tr>\n",
       "    <tr>\n",
       "      <td>Oranges</td>\n",
       "      <td>1.310375</td>\n",
       "      <td>22.691877</td>\n",
       "      <td>-0.275040</td>\n",
       "      <td>202.756285</td>\n",
       "      <td>38.762411</td>\n",
       "    </tr>\n",
       "    <tr>\n",
       "      <td>Tomatoes</td>\n",
       "      <td>7.285138</td>\n",
       "      <td>36.294783</td>\n",
       "      <td>13.443478</td>\n",
       "      <td>38.762411</td>\n",
       "      <td>57.800553</td>\n",
       "    </tr>\n",
       "  </tbody>\n",
       "</table>\n",
       "</div>"
      ],
      "text/plain": [
       "              Bread     Burger       Milk     Oranges   Tomatoes\n",
       "Bread      6.284466  12.910968   5.719051    1.310375   7.285138\n",
       "Burger    12.910968  57.077115  17.507530   22.691877  36.294783\n",
       "Milk       5.719051  17.507530  48.305889   -0.275040  13.443478\n",
       "Oranges    1.310375  22.691877  -0.275040  202.756285  38.762411\n",
       "Tomatoes   7.285138  36.294783  13.443478   38.762411  57.800553"
      ]
     },
     "execution_count": 26,
     "metadata": {},
     "output_type": "execute_result"
    }
   ],
   "source": [
    "cov_mat = data.cov()\n",
    "cov_mat"
   ]
  },
  {
   "cell_type": "markdown",
   "metadata": {},
   "source": [
    "## Calculate the eigenvectors\n",
    "\n",
    "Next, calculate the eigenvectors and eigenvalues for your covariance matrix. "
   ]
  },
  {
   "cell_type": "code",
   "execution_count": 27,
   "metadata": {},
   "outputs": [],
   "source": [
    "import numpy as np\n",
    "eig_values, eig_vectors = np.linalg.eig(cov_mat)"
   ]
  },
  {
   "cell_type": "markdown",
   "metadata": {},
   "source": [
    "## Sort the eigenvectors \n",
    "\n",
    "Great! Now that you have the eigenvectors and their associated eigenvalues, sort the eigenvectors based on their eigenvalues to determine primary components!"
   ]
  },
  {
   "cell_type": "code",
   "execution_count": 28,
   "metadata": {},
   "outputs": [
    {
     "data": {
      "text/plain": [
       "array([[-0.02848905, -0.16532108,  0.02135748, -0.18972574, -0.96716354],\n",
       "       [-0.2001224 , -0.63218494,  0.25420475, -0.65862454,  0.24877074],\n",
       "       [-0.0416723 , -0.44215032, -0.88874949,  0.10765906,  0.03606094],\n",
       "       [-0.93885906,  0.31435473, -0.12135003, -0.06904699, -0.01521357],\n",
       "       [-0.27558389, -0.52791603,  0.36100184,  0.71684022, -0.03429221]])"
      ]
     },
     "execution_count": 28,
     "metadata": {},
     "output_type": "execute_result"
    }
   ],
   "source": [
    "# Get the index values of the sorted eigenvalues\n",
    "e_indices = np.argsort(eig_values)[::-1] \n",
    "\n",
    "# Sort \n",
    "eigenvectors_sorted = eig_vectors[:, e_indices]\n",
    "eigenvectors_sorted"
   ]
  },
  {
   "cell_type": "markdown",
   "metadata": {},
   "source": [
    "## Reprojecting the data\n",
    "\n",
    "Finally, reproject the dataset using your eigenvectors. Reproject this dataset down to 2 dimensions."
   ]
  },
  {
   "cell_type": "code",
   "execution_count": 29,
   "metadata": {},
   "outputs": [],
   "source": [
    "transformed = eigenvectors_sorted[:, :2].T.dot(data.T).T"
   ]
  },
  {
   "cell_type": "code",
   "execution_count": 30,
   "metadata": {},
   "outputs": [
    {
     "data": {
      "text/html": [
       "<div>\n",
       "<style scoped>\n",
       "    .dataframe tbody tr th:only-of-type {\n",
       "        vertical-align: middle;\n",
       "    }\n",
       "\n",
       "    .dataframe tbody tr th {\n",
       "        vertical-align: top;\n",
       "    }\n",
       "\n",
       "    .dataframe thead th {\n",
       "        text-align: right;\n",
       "    }\n",
       "</style>\n",
       "<table border=\"1\" class=\"dataframe\">\n",
       "  <thead>\n",
       "    <tr style=\"text-align: right;\">\n",
       "      <th></th>\n",
       "      <th>0</th>\n",
       "      <th>1</th>\n",
       "    </tr>\n",
       "  </thead>\n",
       "  <tbody>\n",
       "    <tr>\n",
       "      <td>0</td>\n",
       "      <td>22.476271</td>\n",
       "      <td>-10.084571</td>\n",
       "    </tr>\n",
       "    <tr>\n",
       "      <td>1</td>\n",
       "      <td>25.325818</td>\n",
       "      <td>-13.278372</td>\n",
       "    </tr>\n",
       "    <tr>\n",
       "      <td>2</td>\n",
       "      <td>-5.810981</td>\n",
       "      <td>-11.389537</td>\n",
       "    </tr>\n",
       "    <tr>\n",
       "      <td>3</td>\n",
       "      <td>-14.139856</td>\n",
       "      <td>5.965021</td>\n",
       "    </tr>\n",
       "    <tr>\n",
       "      <td>4</td>\n",
       "      <td>-2.426889</td>\n",
       "      <td>2.477207</td>\n",
       "    </tr>\n",
       "    <tr>\n",
       "      <td>5</td>\n",
       "      <td>2.165798</td>\n",
       "      <td>-6.663567</td>\n",
       "    </tr>\n",
       "    <tr>\n",
       "      <td>6</td>\n",
       "      <td>-5.788540</td>\n",
       "      <td>10.243124</td>\n",
       "    </tr>\n",
       "    <tr>\n",
       "      <td>7</td>\n",
       "      <td>-10.757365</td>\n",
       "      <td>12.621018</td>\n",
       "    </tr>\n",
       "    <tr>\n",
       "      <td>8</td>\n",
       "      <td>-7.185310</td>\n",
       "      <td>3.994880</td>\n",
       "    </tr>\n",
       "    <tr>\n",
       "      <td>9</td>\n",
       "      <td>-35.597059</td>\n",
       "      <td>-14.789443</td>\n",
       "    </tr>\n",
       "    <tr>\n",
       "      <td>10</td>\n",
       "      <td>-2.003468</td>\n",
       "      <td>8.403846</td>\n",
       "    </tr>\n",
       "    <tr>\n",
       "      <td>11</td>\n",
       "      <td>3.936386</td>\n",
       "      <td>2.643342</td>\n",
       "    </tr>\n",
       "    <tr>\n",
       "      <td>12</td>\n",
       "      <td>22.626969</td>\n",
       "      <td>3.138735</td>\n",
       "    </tr>\n",
       "    <tr>\n",
       "      <td>13</td>\n",
       "      <td>-8.737376</td>\n",
       "      <td>6.066383</td>\n",
       "    </tr>\n",
       "    <tr>\n",
       "      <td>14</td>\n",
       "      <td>-2.973768</td>\n",
       "      <td>4.417981</td>\n",
       "    </tr>\n",
       "    <tr>\n",
       "      <td>15</td>\n",
       "      <td>-11.940210</td>\n",
       "      <td>-20.410290</td>\n",
       "    </tr>\n",
       "    <tr>\n",
       "      <td>16</td>\n",
       "      <td>0.871768</td>\n",
       "      <td>-10.494444</td>\n",
       "    </tr>\n",
       "    <tr>\n",
       "      <td>17</td>\n",
       "      <td>-14.041141</td>\n",
       "      <td>2.689048</td>\n",
       "    </tr>\n",
       "    <tr>\n",
       "      <td>18</td>\n",
       "      <td>-10.742296</td>\n",
       "      <td>5.278547</td>\n",
       "    </tr>\n",
       "    <tr>\n",
       "      <td>19</td>\n",
       "      <td>15.098476</td>\n",
       "      <td>11.315431</td>\n",
       "    </tr>\n",
       "    <tr>\n",
       "      <td>20</td>\n",
       "      <td>4.210302</td>\n",
       "      <td>8.067854</td>\n",
       "    </tr>\n",
       "    <tr>\n",
       "      <td>21</td>\n",
       "      <td>15.154330</td>\n",
       "      <td>7.844146</td>\n",
       "    </tr>\n",
       "    <tr>\n",
       "      <td>22</td>\n",
       "      <td>20.278140</td>\n",
       "      <td>-8.056339</td>\n",
       "    </tr>\n",
       "  </tbody>\n",
       "</table>\n",
       "</div>"
      ],
      "text/plain": [
       "            0          1\n",
       "0   22.476271 -10.084571\n",
       "1   25.325818 -13.278372\n",
       "2   -5.810981 -11.389537\n",
       "3  -14.139856   5.965021\n",
       "4   -2.426889   2.477207\n",
       "5    2.165798  -6.663567\n",
       "6   -5.788540  10.243124\n",
       "7  -10.757365  12.621018\n",
       "8   -7.185310   3.994880\n",
       "9  -35.597059 -14.789443\n",
       "10  -2.003468   8.403846\n",
       "11   3.936386   2.643342\n",
       "12  22.626969   3.138735\n",
       "13  -8.737376   6.066383\n",
       "14  -2.973768   4.417981\n",
       "15 -11.940210 -20.410290\n",
       "16   0.871768 -10.494444\n",
       "17 -14.041141   2.689048\n",
       "18 -10.742296   5.278547\n",
       "19  15.098476  11.315431\n",
       "20   4.210302   8.067854\n",
       "21  15.154330   7.844146\n",
       "22  20.278140  -8.056339"
      ]
     },
     "execution_count": 30,
     "metadata": {},
     "output_type": "execute_result"
    }
   ],
   "source": [
    "pd.DataFrame(transformed)"
   ]
  },
  {
   "cell_type": "code",
   "execution_count": 31,
   "metadata": {},
   "outputs": [
    {
     "data": {
      "text/html": [
       "<div>\n",
       "<style scoped>\n",
       "    .dataframe tbody tr th:only-of-type {\n",
       "        vertical-align: middle;\n",
       "    }\n",
       "\n",
       "    .dataframe tbody tr th {\n",
       "        vertical-align: top;\n",
       "    }\n",
       "\n",
       "    .dataframe thead th {\n",
       "        text-align: right;\n",
       "    }\n",
       "</style>\n",
       "<table border=\"1\" class=\"dataframe\">\n",
       "  <thead>\n",
       "    <tr style=\"text-align: right;\">\n",
       "      <th></th>\n",
       "      <th>Bread</th>\n",
       "      <th>Burger</th>\n",
       "      <th>Milk</th>\n",
       "      <th>Oranges</th>\n",
       "      <th>Tomatoes</th>\n",
       "    </tr>\n",
       "    <tr>\n",
       "      <th>City</th>\n",
       "      <th></th>\n",
       "      <th></th>\n",
       "      <th></th>\n",
       "      <th></th>\n",
       "      <th></th>\n",
       "    </tr>\n",
       "  </thead>\n",
       "  <tbody>\n",
       "    <tr>\n",
       "      <td>ATLANTA</td>\n",
       "      <td>24.5</td>\n",
       "      <td>94.5</td>\n",
       "      <td>73.9</td>\n",
       "      <td>80.1</td>\n",
       "      <td>41.6</td>\n",
       "    </tr>\n",
       "    <tr>\n",
       "      <td>BALTIMORE</td>\n",
       "      <td>26.5</td>\n",
       "      <td>91.0</td>\n",
       "      <td>67.5</td>\n",
       "      <td>74.6</td>\n",
       "      <td>53.3</td>\n",
       "    </tr>\n",
       "    <tr>\n",
       "      <td>BOSTON</td>\n",
       "      <td>29.7</td>\n",
       "      <td>100.8</td>\n",
       "      <td>61.4</td>\n",
       "      <td>104.0</td>\n",
       "      <td>59.6</td>\n",
       "    </tr>\n",
       "    <tr>\n",
       "      <td>BUFFALO</td>\n",
       "      <td>22.8</td>\n",
       "      <td>86.6</td>\n",
       "      <td>65.3</td>\n",
       "      <td>118.4</td>\n",
       "      <td>51.2</td>\n",
       "    </tr>\n",
       "    <tr>\n",
       "      <td>CHICAGO</td>\n",
       "      <td>26.7</td>\n",
       "      <td>86.7</td>\n",
       "      <td>62.7</td>\n",
       "      <td>105.9</td>\n",
       "      <td>51.2</td>\n",
       "    </tr>\n",
       "  </tbody>\n",
       "</table>\n",
       "</div>"
      ],
      "text/plain": [
       "           Bread  Burger  Milk  Oranges  Tomatoes\n",
       "City                                             \n",
       "ATLANTA     24.5    94.5  73.9     80.1      41.6\n",
       "BALTIMORE   26.5    91.0  67.5     74.6      53.3\n",
       "BOSTON      29.7   100.8  61.4    104.0      59.6\n",
       "BUFFALO     22.8    86.6  65.3    118.4      51.2\n",
       "CHICAGO     26.7    86.7  62.7    105.9      51.2"
      ]
     },
     "execution_count": 31,
     "metadata": {},
     "output_type": "execute_result"
    }
   ],
   "source": [
    "df = pd.read_csv('foodusa.csv', index_col=0)\n",
    "df.head()"
   ]
  },
  {
   "cell_type": "code",
   "execution_count": 34,
   "metadata": {},
   "outputs": [
    {
     "name": "stdout",
     "output_type": "stream",
     "text": [
      "<class 'pandas.core.frame.DataFrame'>\n",
      "Index: 23 entries, ATLANTA to WASHINGTON DC\n",
      "Data columns (total 5 columns):\n",
      "Bread       23 non-null float64\n",
      "Burger      23 non-null float64\n",
      "Milk        23 non-null float64\n",
      "Oranges     23 non-null float64\n",
      "Tomatoes    23 non-null float64\n",
      "dtypes: float64(5)\n",
      "memory usage: 1.1+ KB\n"
     ]
    }
   ],
   "source": [
    "df.info()"
   ]
  },
  {
   "cell_type": "code",
   "execution_count": 32,
   "metadata": {},
   "outputs": [],
   "source": [
    "from sklearn.decomposition import PCA"
   ]
  },
  {
   "cell_type": "code",
   "execution_count": 33,
   "metadata": {},
   "outputs": [
    {
     "data": {
      "text/plain": [
       "array([[-22.47627135,  10.08457066],\n",
       "       [-25.32581769,  13.27837213],\n",
       "       [  5.81098064,  11.38953692],\n",
       "       [ 14.13985584,  -5.96502128],\n",
       "       [  2.42688912,  -2.47720723],\n",
       "       [ -2.1657978 ,   6.66356692],\n",
       "       [  5.78854031, -10.24312359],\n",
       "       [ 10.75736512, -12.62101843],\n",
       "       [  7.18530971,  -3.99487979],\n",
       "       [ 35.59705933,  14.78944315],\n",
       "       [  2.00346781,  -8.40384556],\n",
       "       [ -3.93638626,  -2.64334177],\n",
       "       [-22.62696885,  -3.1387347 ],\n",
       "       [  8.73737565,  -6.06638331],\n",
       "       [  2.97376841,  -4.41798128],\n",
       "       [ 11.94020957,  20.41028996],\n",
       "       [ -0.87176778,  10.49444408],\n",
       "       [ 14.04114081,  -2.68904808],\n",
       "       [ 10.7422955 ,  -5.27854662],\n",
       "       [-15.0984763 , -11.31543052],\n",
       "       [ -4.21030161,  -8.06785423],\n",
       "       [-15.15432974,  -7.84414643],\n",
       "       [-20.27814045,   8.05633901]])"
      ]
     },
     "execution_count": 33,
     "metadata": {},
     "output_type": "execute_result"
    }
   ],
   "source": [
    "pca = PCA(2)\n",
    "transformed2 = pca.fit_transform(df)\n",
    "transformed2"
   ]
  },
  {
   "cell_type": "code",
   "execution_count": null,
   "metadata": {},
   "outputs": [],
   "source": [
    "# These results are consistent, except that the signs have been reversed"
   ]
  },
  {
   "cell_type": "code",
   "execution_count": 37,
   "metadata": {},
   "outputs": [
    {
     "data": {
      "image/png": "[encoded data removed]",
      "text/plain": [
       "<Figure size 432x288 with 1 Axes>"
      ]
     },
     "metadata": {},
     "output_type": "display_data"
    },
    {
     "data": {
      "image/png": "[encoded data removed]",
      "text/plain": [
       "<Figure size 432x288 with 1 Axes>"
      ]
     },
     "metadata": {},
     "output_type": "display_data"
    }
   ],
   "source": [
    "import matplotlib.pyplot as plt\n",
    "plt.style.use('seaborn-darkgrid')\n",
    "\n",
    "plt.scatter(transformed[:, 0], transformed[:, 1])\n",
    "plt.title('Manual PCA')\n",
    "plt.show()\n",
    "plt.scatter(transformed2[:, 0], transformed2[:, 1])\n",
    "plt.title('sklearn PCA')\n",
    "plt.show()"
   ]
  },
  {
   "cell_type": "markdown",
   "metadata": {},
   "source": [
    "## Summary\n",
    "\n",
    "Well done! You've now coded PCA on your own using NumPy! With that, it's time to look at further applications of PCA."
   ]
  }
 ],
 "metadata": {
  "kernelspec": {
   "display_name": "Python 3",
   "language": "python",
   "name": "python3"
  },
  "language_info": {
   "codemirror_mode": {
    "name": "ipython",
    "version": 3
   },
   "file_extension": ".py",
   "mimetype": "text/x-python",
   "name": "python",
   "nbconvert_exporter": "python",
   "pygments_lexer": "ipython3",
   "version": "3.7.4"
  }
 },
 "nbformat": 4,
 "nbformat_minor": 2
}
